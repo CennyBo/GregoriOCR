{
 "cells": [
  {
   "cell_type": "code",
   "execution_count": null,
   "id": "bdca96a9",
   "metadata": {},
   "outputs": [],
   "source": [
    "import numpy as np\n",
    "import tensorflow as tf\n",
    "from tensorflow import keras\n",
    "import matplotlib.pyplot as plt"
   ]
  },
  {
   "cell_type": "code",
   "execution_count": 2,
   "id": "a134bb38",
   "metadata": {},
   "outputs": [],
   "source": [
    "y_labels = []\n",
    "with open('Chant data label.txt', encoding=\"utf-8\") as f:\n",
    "    for line in f:\n",
    "        y_labels.append(int(line))"
   ]
  },
  {
   "cell_type": "code",
   "execution_count": 5,
   "id": "c0e874cf",
   "metadata": {},
   "outputs": [],
   "source": [
    "y_labels = np.array(y_labels)"
   ]
  },
  {
   "cell_type": "code",
   "execution_count": 6,
   "id": "4c901e49",
   "metadata": {},
   "outputs": [
    {
     "data": {
      "text/plain": [
       "array([17, 15,  9,  7,  9,  9,  9, 14, 15, 19, 21, 20, 14, 15, 15, 10, 16,\n",
       "       14, 16, 11, 18, 20, 18, 20, 21, 21, 20, 20, 20, 12])"
      ]
     },
     "execution_count": 6,
     "metadata": {},
     "output_type": "execute_result"
    }
   ],
   "source": [
    "y_labels"
   ]
  },
  {
   "cell_type": "code",
   "execution_count": 8,
   "id": "ca1f2eea",
   "metadata": {},
   "outputs": [
    {
     "data": {
      "text/plain": [
       "13"
      ]
     },
     "execution_count": 8,
     "metadata": {},
     "output_type": "execute_result"
    }
   ],
   "source": [
    "num_classes = len(np.unique(y_labels))\n",
    "num_classes"
   ]
  },
  {
   "cell_type": "code",
   "execution_count": 9,
   "id": "14e2ca87",
   "metadata": {},
   "outputs": [
    {
     "data": {
      "text/plain": [
       "dtype('int64')"
      ]
     },
     "execution_count": 9,
     "metadata": {},
     "output_type": "execute_result"
    }
   ],
   "source": [
    "y_labels.dtype"
   ]
  },
  {
   "cell_type": "code",
   "execution_count": 14,
   "id": "1b31d874",
   "metadata": {},
   "outputs": [],
   "source": [
    "y = keras.utils.to_categorical(y_labels, dtype='int64')"
   ]
  },
  {
   "cell_type": "code",
   "execution_count": 15,
   "id": "cb5556fe",
   "metadata": {},
   "outputs": [
    {
     "data": {
      "text/plain": [
       "(30, 22)"
      ]
     },
     "execution_count": 15,
     "metadata": {},
     "output_type": "execute_result"
    }
   ],
   "source": [
    "y.shape"
   ]
  },
  {
   "cell_type": "code",
   "execution_count": 17,
   "id": "c20fe912",
   "metadata": {},
   "outputs": [
    {
     "name": "stdout",
     "output_type": "stream",
     "text": [
      "Chant_Data/01.png (106, 744)\n",
      "Chant_Data/02.png (100, 806)\n",
      "Chant_Data/03.png (100, 806)\n",
      "Chant_Data/04.png (100, 806)\n",
      "Chant_Data/05.png (100, 806)\n",
      "Chant_Data/06.png (100, 806)\n",
      "Chant_Data/07.png (100, 806)\n",
      "Chant_Data/08.png (100, 806)\n",
      "Chant_Data/09.png (100, 796)\n",
      "Chant_Data/10.png (160, 1550)\n",
      "Chant_Data/11.png (184, 1626)\n",
      "Chant_Data/12.png (196, 1654)\n",
      "Chant_Data/13.png (84, 642)\n",
      "Chant_Data/14.png (84, 694)\n",
      "Chant_Data/15.png (84, 694)\n",
      "Chant_Data/16.png (84, 694)\n",
      "Chant_Data/17.png (116, 710)\n",
      "Chant_Data/18.png (116, 764)\n",
      "Chant_Data/19.png (116, 764)\n",
      "Chant_Data/20.png (116, 764)\n",
      "Chant_Data/21.png (116, 700)\n",
      "Chant_Data/22.png (100, 770)\n",
      "Chant_Data/23.png (100, 770)\n",
      "Chant_Data/24.png (100, 770)\n",
      "Chant_Data/25.png (100, 770)\n",
      "Chant_Data/26.png (100, 770)\n",
      "Chant_Data/27.png (100, 770)\n",
      "Chant_Data/28.png (100, 770)\n",
      "Chant_Data/29.png (100, 770)\n",
      "Chant_Data/30.png (100, 770)\n"
     ]
    }
   ],
   "source": [
    "import os\n",
    "\n",
    "directory = 'Chant_Data'\n",
    "\n",
    "for i in range(1, 31):\n",
    "    if i < 10:\n",
    "        im_name = os.path.join(directory, f'{i:02}.png')\n",
    "    else:\n",
    "        im_name = os.path.join(directory, f'{i}.png')\n",
    "    im_test = keras.utils.load_img(\n",
    "        im_name,\n",
    "        color_mode=\"grayscale\",\n",
    "        target_size=None,\n",
    "        interpolation=\"bilinear\",\n",
    "        keep_aspect_ratio=False,\n",
    "    )\n",
    "    img = np.array(im_test)\n",
    "    height, width = img.shape\n",
    "    print(im_name, (height, width))"
   ]
  },
  {
   "cell_type": "markdown",
   "id": "faf56c45",
   "metadata": {},
   "source": [
    "Let's go with 80x600 as the modified image size"
   ]
  },
  {
   "cell_type": "code",
   "execution_count": 70,
   "id": "9ada6342",
   "metadata": {},
   "outputs": [],
   "source": [
    "directory = 'Chant_Data'\n",
    "imgs = []\n",
    "\n",
    "for i in range(1, 31):\n",
    "    if i < 10:\n",
    "        im_name = os.path.join(directory, f'{i:02}.png')\n",
    "    else:\n",
    "        im_name = os.path.join(directory, f'{i}.png')\n",
    "    im_test = keras.utils.load_img(\n",
    "        im_name,\n",
    "        color_mode=\"grayscale\",\n",
    "        target_size=(256, 256),\n",
    "        interpolation=\"bilinear\",\n",
    "        keep_aspect_ratio=False,\n",
    "    )\n",
    "    img = np.array(im_test)\n",
    "    height, width = img.shape\n",
    "    imgs.append(img.reshape(height, width, 1))"
   ]
  },
  {
   "cell_type": "code",
   "execution_count": 71,
   "id": "3c3be366",
   "metadata": {
    "scrolled": false
   },
   "outputs": [
    {
     "data": {
      "text/plain": [
       "<matplotlib.image.AxesImage at 0x178014d30>"
      ]
     },
     "execution_count": 71,
     "metadata": {},
     "output_type": "execute_result"
    },
    {
     "data": {
      "image/png": "[encoded data removed]",
      "text/plain": [
       "<Figure size 640x480 with 1 Axes>"
      ]
     },
     "metadata": {},
     "output_type": "display_data"
    }
   ],
   "source": [
    "plt.imshow(np.array(imgs[7]), cmap='gray')"
   ]
  },
  {
   "cell_type": "code",
   "execution_count": 72,
   "id": "b080aafd",
   "metadata": {},
   "outputs": [
    {
     "data": {
      "text/plain": [
       "(30, 256, 256, 1)"
      ]
     },
     "execution_count": 72,
     "metadata": {},
     "output_type": "execute_result"
    }
   ],
   "source": [
    "X = np.array(imgs)\n",
    "X.shape"
   ]
  },
  {
   "cell_type": "code",
   "execution_count": 73,
   "id": "f2704df1",
   "metadata": {},
   "outputs": [],
   "source": [
    "from sklearn.model_selection import train_test_split"
   ]
  },
  {
   "cell_type": "code",
   "execution_count": 74,
   "id": "13966cbe",
   "metadata": {},
   "outputs": [],
   "source": [
    " X_train, X_test, y_train, y_test = train_test_split(X, y, test_size=0.1)"
   ]
  },
  {
   "cell_type": "code",
   "execution_count": 75,
   "id": "9fd352f5",
   "metadata": {},
   "outputs": [
    {
     "data": {
      "text/plain": [
       "(27, 3, 27, 3)"
      ]
     },
     "execution_count": 75,
     "metadata": {},
     "output_type": "execute_result"
    }
   ],
   "source": [
    "len(X_train), len(X_test), len(y_train), len(y_test)"
   ]
  },
  {
   "cell_type": "code",
   "execution_count": 76,
   "id": "cfa63646",
   "metadata": {},
   "outputs": [
    {
     "data": {
      "text/plain": [
       "((27, 256, 256, 1), (3, 256, 256, 1))"
      ]
     },
     "execution_count": 76,
     "metadata": {},
     "output_type": "execute_result"
    }
   ],
   "source": [
    "X_train.shape, X_test.shape"
   ]
  },
  {
   "cell_type": "code",
   "execution_count": 77,
   "id": "4a3e8028",
   "metadata": {
    "scrolled": true
   },
   "outputs": [
    {
     "data": {
      "text/plain": [
       "array([[0, 0, 0, 0, 0, 0, 0, 0, 0, 0, 0, 0, 0, 0, 0, 0, 0, 0, 0, 0, 0, 1],\n",
       "       [0, 0, 0, 0, 0, 0, 0, 0, 0, 0, 0, 0, 0, 0, 0, 0, 0, 1, 0, 0, 0, 0],\n",
       "       [0, 0, 0, 0, 0, 0, 0, 0, 0, 0, 0, 0, 0, 0, 1, 0, 0, 0, 0, 0, 0, 0]])"
      ]
     },
     "execution_count": 77,
     "metadata": {},
     "output_type": "execute_result"
    }
   ],
   "source": [
    "y_test"
   ]
  },
  {
   "cell_type": "code",
   "execution_count": 78,
   "id": "0fbdfb7a",
   "metadata": {},
   "outputs": [],
   "source": [
    "model = keras.models.Sequential()\n",
    "model.add(keras.layers.Rescaling(1./255))\n",
    "model.add(keras.layers.RandomFlip('vertical'))\n",
    "model.add(keras.layers.Conv2D(128, (3, 3), activation='relu', input_shape=(256, 256, 1)))\n",
    "model.add(keras.layers.MaxPooling2D((2, 2)))\n",
    "model.add(keras.layers.Conv2D(128, (3, 3), activation='relu'))\n",
    "model.add(keras.layers.MaxPooling2D((2, 2)))\n",
    "model.add(keras.layers.Conv2D(64, (3, 3), activation='relu'))\n",
    "model.add(keras.layers.MaxPooling2D((2, 2)))\n",
    "model.add(keras.layers.Conv2D(64, (3, 3), activation='relu'))\n",
    "model.add(keras.layers.MaxPooling2D((2, 2)))\n",
    "model.add(keras.layers.Conv2D(64, (3, 3), activation='relu'))\n",
    "\n",
    "model.add(keras.layers.Flatten())\n",
    "model.add(keras.layers.Dense(128, activation='relu'))\n",
    "model.add(keras.layers.Dense(64, activation='relu'))\n",
    "model.add(keras.layers.Dense(32, activation='relu'))\n",
    "model.add(keras.layers.Dense(22))"
   ]
  },
  {
   "cell_type": "code",
   "execution_count": 79,
   "id": "2a2fd683",
   "metadata": {},
   "outputs": [
    {
     "name": "stdout",
     "output_type": "stream",
     "text": [
      "Epoch 1/100\n",
      "2/2 [==============================] - 3s 619ms/step - loss: 8.8581 - accuracy: 0.0000e+00 - val_loss: 6.1676 - val_accuracy: 0.0000e+00\n",
      "Epoch 2/100\n",
      "2/2 [==============================] - 2s 547ms/step - loss: 11.1358 - accuracy: 0.0000e+00 - val_loss: 7.3222 - val_accuracy: 0.0000e+00\n",
      "Epoch 3/100\n",
      "2/2 [==============================] - 2s 549ms/step - loss: 5.1435 - accuracy: 0.0370 - val_loss: 10.7454 - val_accuracy: 0.0000e+00\n",
      "Epoch 4/100\n",
      "2/2 [==============================] - 2s 549ms/step - loss: 11.3424 - accuracy: 0.0370 - val_loss: 10.7454 - val_accuracy: 0.0000e+00\n",
      "Epoch 5/100\n",
      "2/2 [==============================] - 2s 552ms/step - loss: 10.9247 - accuracy: 0.0370 - val_loss: 6.2607 - val_accuracy: 0.0000e+00\n",
      "Epoch 6/100\n",
      "2/2 [==============================] - 2s 546ms/step - loss: 10.2311 - accuracy: 0.0370 - val_loss: 5.3727 - val_accuracy: 0.0000e+00\n",
      "Epoch 7/100\n",
      "2/2 [==============================] - 2s 549ms/step - loss: 9.5515 - accuracy: 0.0370 - val_loss: 6.7006 - val_accuracy: 0.0000e+00\n",
      "Epoch 8/100\n",
      "2/2 [==============================] - 2s 546ms/step - loss: 5.9697 - accuracy: 0.0000e+00 - val_loss: 6.3057 - val_accuracy: 0.0000e+00\n",
      "Epoch 9/100\n",
      "2/2 [==============================] - 2s 539ms/step - loss: 5.9909 - accuracy: 0.0000e+00 - val_loss: 6.0791 - val_accuracy: 0.0000e+00\n",
      "Epoch 10/100\n",
      "2/2 [==============================] - 2s 663ms/step - loss: 5.9855 - accuracy: 0.0000e+00 - val_loss: 5.8734 - val_accuracy: 0.0000e+00\n",
      "Epoch 11/100\n",
      "2/2 [==============================] - 3s 784ms/step - loss: 5.9697 - accuracy: 0.0000e+00 - val_loss: 5.7346 - val_accuracy: 0.0000e+00\n",
      "Epoch 12/100\n",
      "2/2 [==============================] - 3s 568ms/step - loss: 5.9697 - accuracy: 0.0000e+00 - val_loss: 5.5652 - val_accuracy: 0.0000e+00\n",
      "Epoch 13/100\n",
      "2/2 [==============================] - 3s 572ms/step - loss: 5.9697 - accuracy: 0.0000e+00 - val_loss: 5.3727 - val_accuracy: 0.0000e+00\n",
      "Epoch 14/100\n",
      "2/2 [==============================] - 2s 571ms/step - loss: 5.9697 - accuracy: 0.0000e+00 - val_loss: 5.3727 - val_accuracy: 0.0000e+00\n",
      "Epoch 15/100\n",
      "2/2 [==============================] - 3s 763ms/step - loss: 6.5666 - accuracy: 0.0000e+00 - val_loss: 10.7454 - val_accuracy: 0.0000e+00\n",
      "Epoch 16/100\n",
      "2/2 [==============================] - 3s 586ms/step - loss: 10.1484 - accuracy: 0.0000e+00 - val_loss: 10.7454 - val_accuracy: 0.0000e+00\n",
      "Epoch 17/100\n",
      "2/2 [==============================] - 2s 576ms/step - loss: 10.1484 - accuracy: 0.0000e+00 - val_loss: 10.7454 - val_accuracy: 0.0000e+00\n",
      "Epoch 18/100\n",
      "2/2 [==============================] - 3s 630ms/step - loss: 10.1484 - accuracy: 0.0000e+00 - val_loss: 10.7454 - val_accuracy: 0.0000e+00\n",
      "Epoch 19/100\n",
      "2/2 [==============================] - 2s 640ms/step - loss: 10.1484 - accuracy: 0.0000e+00 - val_loss: 10.7454 - val_accuracy: 0.0000e+00\n",
      "Epoch 20/100\n",
      "2/2 [==============================] - 3s 590ms/step - loss: 10.1484 - accuracy: 0.0000e+00 - val_loss: 10.7454 - val_accuracy: 0.0000e+00\n",
      "Epoch 21/100\n",
      "2/2 [==============================] - 3s 632ms/step - loss: 10.1484 - accuracy: 0.0000e+00 - val_loss: 10.7454 - val_accuracy: 0.0000e+00\n",
      "Epoch 22/100\n",
      "2/2 [==============================] - 3s 958ms/step - loss: 10.1484 - accuracy: 0.0000e+00 - val_loss: 10.7454 - val_accuracy: 0.0000e+00\n",
      "Epoch 23/100\n",
      "2/2 [==============================] - 3s 615ms/step - loss: 10.1484 - accuracy: 0.0000e+00 - val_loss: 10.7454 - val_accuracy: 0.0000e+00\n",
      "Epoch 24/100\n",
      "2/2 [==============================] - 3s 647ms/step - loss: 10.1484 - accuracy: 0.0000e+00 - val_loss: 10.7454 - val_accuracy: 0.0000e+00\n",
      "Epoch 25/100\n",
      "2/2 [==============================] - 3s 707ms/step - loss: 10.1484 - accuracy: 0.0000e+00 - val_loss: 10.7454 - val_accuracy: 0.0000e+00\n",
      "Epoch 26/100\n",
      "2/2 [==============================] - 4s 840ms/step - loss: 10.1484 - accuracy: 0.0000e+00 - val_loss: 10.7454 - val_accuracy: 0.0000e+00\n",
      "Epoch 27/100\n",
      "2/2 [==============================] - 4s 719ms/step - loss: 10.1484 - accuracy: 0.0000e+00 - val_loss: 10.7454 - val_accuracy: 0.0000e+00\n",
      "Epoch 28/100\n",
      "2/2 [==============================] - 3s 612ms/step - loss: 10.1484 - accuracy: 0.0000e+00 - val_loss: 10.7486 - val_accuracy: 0.0000e+00\n",
      "Epoch 29/100\n",
      "2/2 [==============================] - 3s 620ms/step - loss: 10.1486 - accuracy: 0.0000e+00 - val_loss: 5.3727 - val_accuracy: 0.0000e+00\n",
      "Epoch 30/100\n",
      "2/2 [==============================] - 3s 649ms/step - loss: 5.9697 - accuracy: 0.0000e+00 - val_loss: 5.5684 - val_accuracy: 0.0000e+00\n",
      "Epoch 31/100\n",
      "2/2 [==============================] - 3s 623ms/step - loss: 5.9748 - accuracy: 0.0000e+00 - val_loss: 5.5820 - val_accuracy: 0.0000e+00\n",
      "Epoch 32/100\n",
      "2/2 [==============================] - 3s 688ms/step - loss: 5.9758 - accuracy: 0.0000e+00 - val_loss: 5.5158 - val_accuracy: 0.0000e+00\n",
      "Epoch 33/100\n",
      "2/2 [==============================] - 3s 650ms/step - loss: 5.9697 - accuracy: 0.0000e+00 - val_loss: 5.4574 - val_accuracy: 0.0000e+00\n",
      "Epoch 34/100\n",
      "2/2 [==============================] - 3s 638ms/step - loss: 5.9697 - accuracy: 0.0000e+00 - val_loss: 5.4141 - val_accuracy: 0.0000e+00\n",
      "Epoch 35/100\n",
      "2/2 [==============================] - 3s 826ms/step - loss: 5.9697 - accuracy: 0.0000e+00 - val_loss: 5.3778 - val_accuracy: 0.0000e+00\n",
      "Epoch 36/100\n",
      "2/2 [==============================] - 3s 675ms/step - loss: 5.9697 - accuracy: 0.0000e+00 - val_loss: 5.3727 - val_accuracy: 0.0000e+00\n",
      "Epoch 37/100\n",
      "2/2 [==============================] - 3s 639ms/step - loss: 5.9697 - accuracy: 0.0000e+00 - val_loss: 5.3727 - val_accuracy: 0.0000e+00\n",
      "Epoch 38/100\n",
      "2/2 [==============================] - 3s 629ms/step - loss: 5.9697 - accuracy: 0.0000e+00 - val_loss: 5.3727 - val_accuracy: 0.0000e+00\n",
      "Epoch 39/100\n",
      "2/2 [==============================] - 3s 640ms/step - loss: 5.9697 - accuracy: 0.0000e+00 - val_loss: 5.3727 - val_accuracy: 0.0000e+00\n",
      "Epoch 40/100\n",
      "2/2 [==============================] - 3s 652ms/step - loss: 5.9697 - accuracy: 0.0000e+00 - val_loss: 5.3727 - val_accuracy: 0.0000e+00\n",
      "Epoch 41/100\n",
      "2/2 [==============================] - 2s 639ms/step - loss: 5.9697 - accuracy: 0.0000e+00 - val_loss: 5.3727 - val_accuracy: 0.0000e+00\n",
      "Epoch 42/100\n",
      "2/2 [==============================] - 3s 639ms/step - loss: 5.9697 - accuracy: 0.0000e+00 - val_loss: 5.3727 - val_accuracy: 0.0000e+00\n",
      "Epoch 43/100\n",
      "2/2 [==============================] - 3s 657ms/step - loss: 5.9697 - accuracy: 0.0000e+00 - val_loss: 5.3727 - val_accuracy: 0.0000e+00\n",
      "Epoch 44/100\n",
      "2/2 [==============================] - 3s 741ms/step - loss: 5.9697 - accuracy: 0.0000e+00 - val_loss: 5.3727 - val_accuracy: 0.0000e+00\n",
      "Epoch 45/100\n",
      "2/2 [==============================] - 3s 754ms/step - loss: 5.9697 - accuracy: 0.0000e+00 - val_loss: 5.3727 - val_accuracy: 0.0000e+00\n",
      "Epoch 46/100\n",
      "2/2 [==============================] - 3s 771ms/step - loss: 5.9697 - accuracy: 0.0000e+00 - val_loss: 5.3727 - val_accuracy: 0.0000e+00\n",
      "Epoch 47/100\n",
      "2/2 [==============================] - 3s 876ms/step - loss: 5.9697 - accuracy: 0.0000e+00 - val_loss: 5.3727 - val_accuracy: 0.0000e+00\n",
      "Epoch 48/100\n",
      "2/2 [==============================] - 3s 808ms/step - loss: 5.9697 - accuracy: 0.0000e+00 - val_loss: 5.3727 - val_accuracy: 0.0000e+00\n",
      "Epoch 49/100\n",
      "2/2 [==============================] - 3s 670ms/step - loss: 5.9697 - accuracy: 0.0000e+00 - val_loss: 5.3727 - val_accuracy: 0.0000e+00\n",
      "Epoch 50/100\n",
      "2/2 [==============================] - 3s 668ms/step - loss: 5.9697 - accuracy: 0.0000e+00 - val_loss: 5.3727 - val_accuracy: 0.0000e+00\n",
      "Epoch 51/100\n",
      "2/2 [==============================] - 3s 815ms/step - loss: 5.9697 - accuracy: 0.0000e+00 - val_loss: 5.3727 - val_accuracy: 0.0000e+00\n",
      "Epoch 52/100\n",
      "2/2 [==============================] - 3s 666ms/step - loss: 5.9697 - accuracy: 0.0000e+00 - val_loss: 5.3727 - val_accuracy: 0.0000e+00\n",
      "Epoch 53/100\n",
      "2/2 [==============================] - 3s 661ms/step - loss: 5.9697 - accuracy: 0.0000e+00 - val_loss: 5.3727 - val_accuracy: 0.0000e+00\n",
      "Epoch 54/100\n",
      "2/2 [==============================] - 3s 677ms/step - loss: 5.9697 - accuracy: 0.0000e+00 - val_loss: 5.3727 - val_accuracy: 0.0000e+00\n",
      "Epoch 55/100\n"
     ]
    },
    {
     "name": "stdout",
     "output_type": "stream",
     "text": [
      "2/2 [==============================] - 3s 729ms/step - loss: 5.9697 - accuracy: 0.0000e+00 - val_loss: 5.3727 - val_accuracy: 0.0000e+00\n",
      "Epoch 56/100\n",
      "2/2 [==============================] - 3s 708ms/step - loss: 5.9697 - accuracy: 0.0000e+00 - val_loss: 5.3727 - val_accuracy: 0.0000e+00\n",
      "Epoch 57/100\n",
      "2/2 [==============================] - 3s 666ms/step - loss: 5.9697 - accuracy: 0.0000e+00 - val_loss: 5.3727 - val_accuracy: 0.0000e+00\n",
      "Epoch 58/100\n",
      "2/2 [==============================] - 3s 711ms/step - loss: 5.9697 - accuracy: 0.0000e+00 - val_loss: 5.3727 - val_accuracy: 0.0000e+00\n",
      "Epoch 59/100\n",
      "2/2 [==============================] - 3s 840ms/step - loss: 5.9697 - accuracy: 0.0000e+00 - val_loss: 5.3727 - val_accuracy: 0.0000e+00\n",
      "Epoch 60/100\n",
      "2/2 [==============================] - 3s 838ms/step - loss: 5.9697 - accuracy: 0.0000e+00 - val_loss: 5.3727 - val_accuracy: 0.0000e+00\n",
      "Epoch 61/100\n",
      "2/2 [==============================] - 3s 763ms/step - loss: 5.9697 - accuracy: 0.0000e+00 - val_loss: 5.3727 - val_accuracy: 0.0000e+00\n",
      "Epoch 62/100\n",
      "2/2 [==============================] - 3s 674ms/step - loss: 5.9697 - accuracy: 0.0000e+00 - val_loss: 5.3727 - val_accuracy: 0.0000e+00\n",
      "Epoch 63/100\n",
      "2/2 [==============================] - 3s 783ms/step - loss: 5.9697 - accuracy: 0.0000e+00 - val_loss: 5.3727 - val_accuracy: 0.0000e+00\n",
      "Epoch 64/100\n",
      "2/2 [==============================] - 3s 862ms/step - loss: 5.9697 - accuracy: 0.0000e+00 - val_loss: 5.3727 - val_accuracy: 0.0000e+00\n",
      "Epoch 65/100\n",
      "2/2 [==============================] - 4s 721ms/step - loss: 5.9697 - accuracy: 0.0000e+00 - val_loss: 5.3727 - val_accuracy: 0.0000e+00\n",
      "Epoch 66/100\n",
      "2/2 [==============================] - 3s 754ms/step - loss: 5.9697 - accuracy: 0.0000e+00 - val_loss: 5.3727 - val_accuracy: 0.0000e+00\n",
      "Epoch 67/100\n",
      "2/2 [==============================] - 3s 1s/step - loss: 5.9697 - accuracy: 0.0000e+00 - val_loss: 5.3727 - val_accuracy: 0.0000e+00\n",
      "Epoch 68/100\n",
      "2/2 [==============================] - 4s 869ms/step - loss: 5.9697 - accuracy: 0.0000e+00 - val_loss: 5.3727 - val_accuracy: 0.0000e+00\n",
      "Epoch 69/100\n",
      "2/2 [==============================] - 3s 706ms/step - loss: 5.9697 - accuracy: 0.0000e+00 - val_loss: 5.3727 - val_accuracy: 0.0000e+00\n",
      "Epoch 70/100\n",
      "2/2 [==============================] - 3s 685ms/step - loss: 5.9697 - accuracy: 0.0000e+00 - val_loss: 5.3727 - val_accuracy: 0.0000e+00\n",
      "Epoch 71/100\n",
      "2/2 [==============================] - 3s 761ms/step - loss: 5.9697 - accuracy: 0.0000e+00 - val_loss: 5.3727 - val_accuracy: 0.0000e+00\n",
      "Epoch 72/100\n",
      "2/2 [==============================] - 3s 792ms/step - loss: 5.9697 - accuracy: 0.0000e+00 - val_loss: 5.3727 - val_accuracy: 0.0000e+00\n",
      "Epoch 73/100\n",
      "2/2 [==============================] - 3s 685ms/step - loss: 5.9697 - accuracy: 0.0000e+00 - val_loss: 5.3727 - val_accuracy: 0.0000e+00\n",
      "Epoch 74/100\n",
      "2/2 [==============================] - 3s 686ms/step - loss: 5.9697 - accuracy: 0.0000e+00 - val_loss: 5.3727 - val_accuracy: 0.0000e+00\n",
      "Epoch 75/100\n",
      "2/2 [==============================] - 3s 700ms/step - loss: 5.9697 - accuracy: 0.0000e+00 - val_loss: 5.3727 - val_accuracy: 0.0000e+00\n",
      "Epoch 76/100\n",
      "2/2 [==============================] - 3s 672ms/step - loss: 5.9697 - accuracy: 0.0000e+00 - val_loss: 5.3727 - val_accuracy: 0.0000e+00\n",
      "Epoch 77/100\n",
      "2/2 [==============================] - 3s 689ms/step - loss: 5.9697 - accuracy: 0.0000e+00 - val_loss: 5.3727 - val_accuracy: 0.0000e+00\n",
      "Epoch 78/100\n",
      "2/2 [==============================] - 3s 678ms/step - loss: 5.9697 - accuracy: 0.0000e+00 - val_loss: 5.3727 - val_accuracy: 0.0000e+00\n",
      "Epoch 79/100\n",
      "2/2 [==============================] - 3s 703ms/step - loss: 5.9697 - accuracy: 0.0000e+00 - val_loss: 5.3727 - val_accuracy: 0.0000e+00\n",
      "Epoch 80/100\n",
      "2/2 [==============================] - 3s 718ms/step - loss: 5.9697 - accuracy: 0.0000e+00 - val_loss: 5.3727 - val_accuracy: 0.0000e+00\n",
      "Epoch 81/100\n",
      "2/2 [==============================] - 3s 718ms/step - loss: 5.9697 - accuracy: 0.0000e+00 - val_loss: 5.3727 - val_accuracy: 0.0000e+00\n",
      "Epoch 82/100\n",
      "2/2 [==============================] - 3s 734ms/step - loss: 5.9697 - accuracy: 0.0000e+00 - val_loss: 5.3727 - val_accuracy: 0.0000e+00\n",
      "Epoch 83/100\n",
      "2/2 [==============================] - 3s 736ms/step - loss: 5.9697 - accuracy: 0.0000e+00 - val_loss: 5.3727 - val_accuracy: 0.0000e+00\n",
      "Epoch 84/100\n",
      "2/2 [==============================] - 3s 706ms/step - loss: 5.9697 - accuracy: 0.0000e+00 - val_loss: 5.3727 - val_accuracy: 0.0000e+00\n",
      "Epoch 85/100\n",
      "2/2 [==============================] - 3s 732ms/step - loss: 5.9697 - accuracy: 0.0000e+00 - val_loss: 5.3727 - val_accuracy: 0.0000e+00\n",
      "Epoch 86/100\n",
      "2/2 [==============================] - 3s 692ms/step - loss: 5.9697 - accuracy: 0.0000e+00 - val_loss: 5.3727 - val_accuracy: 0.0000e+00\n",
      "Epoch 87/100\n",
      "2/2 [==============================] - 3s 753ms/step - loss: 5.9697 - accuracy: 0.0000e+00 - val_loss: 5.3727 - val_accuracy: 0.0000e+00\n",
      "Epoch 88/100\n",
      "2/2 [==============================] - 3s 740ms/step - loss: 5.9697 - accuracy: 0.0000e+00 - val_loss: 5.3727 - val_accuracy: 0.0000e+00\n",
      "Epoch 89/100\n",
      "2/2 [==============================] - 3s 728ms/step - loss: 5.9697 - accuracy: 0.0000e+00 - val_loss: 5.3727 - val_accuracy: 0.0000e+00\n",
      "Epoch 90/100\n",
      "2/2 [==============================] - 3s 726ms/step - loss: 5.9697 - accuracy: 0.0000e+00 - val_loss: 5.3727 - val_accuracy: 0.0000e+00\n",
      "Epoch 91/100\n",
      "2/2 [==============================] - 3s 799ms/step - loss: 5.9697 - accuracy: 0.0000e+00 - val_loss: 5.3727 - val_accuracy: 0.0000e+00\n",
      "Epoch 92/100\n",
      "2/2 [==============================] - 3s 701ms/step - loss: 5.9697 - accuracy: 0.0000e+00 - val_loss: 5.3727 - val_accuracy: 0.0000e+00\n",
      "Epoch 93/100\n",
      "2/2 [==============================] - 3s 704ms/step - loss: 5.9697 - accuracy: 0.0000e+00 - val_loss: 5.3727 - val_accuracy: 0.0000e+00\n",
      "Epoch 94/100\n",
      "2/2 [==============================] - 3s 682ms/step - loss: 5.9697 - accuracy: 0.0000e+00 - val_loss: 5.3727 - val_accuracy: 0.0000e+00\n",
      "Epoch 95/100\n",
      "2/2 [==============================] - 3s 696ms/step - loss: 5.9697 - accuracy: 0.0000e+00 - val_loss: 5.3727 - val_accuracy: 0.0000e+00\n",
      "Epoch 96/100\n",
      "2/2 [==============================] - 3s 682ms/step - loss: 5.9697 - accuracy: 0.0000e+00 - val_loss: 5.3727 - val_accuracy: 0.0000e+00\n",
      "Epoch 97/100\n",
      "2/2 [==============================] - 3s 709ms/step - loss: 5.9697 - accuracy: 0.0000e+00 - val_loss: 5.3727 - val_accuracy: 0.0000e+00\n",
      "Epoch 98/100\n",
      "2/2 [==============================] - 3s 711ms/step - loss: 5.9697 - accuracy: 0.0000e+00 - val_loss: 5.3727 - val_accuracy: 0.0000e+00\n",
      "Epoch 99/100\n",
      "2/2 [==============================] - 3s 758ms/step - loss: 5.9697 - accuracy: 0.0000e+00 - val_loss: 5.3727 - val_accuracy: 0.0000e+00\n",
      "Epoch 100/100\n",
      "2/2 [==============================] - 4s 782ms/step - loss: 5.9697 - accuracy: 0.0000e+00 - val_loss: 5.3727 - val_accuracy: 0.0000e+00\n"
     ]
    }
   ],
   "source": [
    "model.compile(optimizer='adam',\n",
    "              loss=keras.losses.CategoricalCrossentropy(),\n",
    "              metrics=['accuracy'])\n",
    "\n",
    "history = model.fit(np.array(X_train), np.array(y_train), batch_size=20, epochs=100, \n",
    "                    validation_data=(np.array(X_test), np.array(y_test)))"
   ]
  },
  {
   "cell_type": "code",
   "execution_count": 81,
   "id": "46c88afa",
   "metadata": {},
   "outputs": [
    {
     "name": "stdout",
     "output_type": "stream",
     "text": [
      "1/1 - 0s - loss: 0.0000e+00 - accuracy: 0.0000e+00 - 49ms/epoch - 49ms/step\n"
     ]
    },
    {
     "data": {
      "image/png": "[encoded data removed]",
      "text/plain": [
       "<Figure size 640x480 with 1 Axes>"
      ]
     },
     "metadata": {},
     "output_type": "display_data"
    }
   ],
   "source": [
    "plt.plot(history.history['accuracy'], label='accuracy')\n",
    "plt.plot(history.history['val_accuracy'], label = 'val_accuracy')\n",
    "plt.xlabel('Epoch')\n",
    "plt.ylabel('Accuracy')\n",
    "plt.ylim([0, 1])\n",
    "plt.legend(loc='lower right')\n",
    "\n",
    "test_loss, test_acc = model.evaluate(X_test, verbose=2)"
   ]
  }
 ],
 "metadata": {
  "kernelspec": {
   "display_name": "Python 3 (ipykernel)",
   "language": "python",
   "name": "python3"
  },
  "language_info": {
   "codemirror_mode": {
    "name": "ipython",
    "version": 3
   },
   "file_extension": ".py",
   "mimetype": "text/x-python",
   "name": "python",
   "nbconvert_exporter": "python",
   "pygments_lexer": "ipython3",
   "version": "3.9.15"
  }
 },
 "nbformat": 4,
 "nbformat_minor": 5
}
